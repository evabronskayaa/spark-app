{
 "cells": [
  {
   "cell_type": "code",
   "execution_count": 13,
   "id": "01104dd2-1ca3-454f-a496-1decf1e5122e",
   "metadata": {},
   "outputs": [],
   "source": [
    "from pyspark.sql import SparkSession\n",
    "from pyspark.sql.types import IntegerType, StringType, StructField, StructType"
   ]
  },
  {
   "cell_type": "code",
   "execution_count": 14,
   "id": "8a3a55b8-de09-4508-b8d9-f8562b94d8dd",
   "metadata": {},
   "outputs": [
    {
     "name": "stdout",
     "output_type": "stream",
     "text": [
      "CPU times: user 5.7 ms, sys: 894 μs, total: 6.6 ms\n",
      "Wall time: 12.2 ms\n"
     ]
    }
   ],
   "source": [
    "%%time\n",
    "spark = (\n",
    "    SparkSession.builder.appName(\"spark-jupyter-test-app\")\n",
    "    .master(\"spark://spark-master:7077\")\n",
    "    .getOrCreate()\n",
    ")"
   ]
  },
  {
   "cell_type": "code",
   "execution_count": 15,
   "id": "9746842f-8e98-412f-97c2-5847f1437473",
   "metadata": {},
   "outputs": [
    {
     "name": "stdout",
     "output_type": "stream",
     "text": [
      "CPU times: user 496 μs, sys: 0 ns, total: 496 μs\n",
      "Wall time: 501 μs\n"
     ]
    }
   ],
   "source": [
    "%%time\n",
    "schema = StructType(\n",
    "    [\n",
    "        StructField(\"name\", StringType(), True),\n",
    "        StructField(\"age\", IntegerType(), True),\n",
    "        StructField(\"city\", StringType(), True),\n",
    "    ]\n",
    ")\n",
    "\n",
    "data = [\n",
    "    (\"Ann\", 25, \"London\"),\n",
    "    (\"Eugene\", 30, \"Saint-Petersburg\"),\n",
    "    (\"Maria\", 28, \"Madrid\"),\n",
    "    (\"Arthur\", 35, \"Paris\"),\n",
    "]"
   ]
  },
  {
   "cell_type": "code",
   "execution_count": 16,
   "id": "b24eb734-d295-4c4a-8831-42385fe79d5e",
   "metadata": {},
   "outputs": [
    {
     "name": "stdout",
     "output_type": "stream",
     "text": [
      "CPU times: user 9.54 ms, sys: 5.1 ms, total: 14.6 ms\n",
      "Wall time: 61.8 ms\n"
     ]
    }
   ],
   "source": [
    "%%time\n",
    "df = spark.createDataFrame(data, schema)"
   ]
  },
  {
   "cell_type": "code",
   "execution_count": 17,
   "id": "0eca6ca4-800d-4b11-baff-437db636e0ca",
   "metadata": {},
   "outputs": [
    {
     "name": "stdout",
     "output_type": "stream",
     "text": [
      "root\n",
      " |-- name: string (nullable = true)\n",
      " |-- age: integer (nullable = true)\n",
      " |-- city: string (nullable = true)\n",
      "\n",
      "CPU times: user 1.39 ms, sys: 1.97 ms, total: 3.36 ms\n",
      "Wall time: 2.79 ms\n"
     ]
    }
   ],
   "source": [
    "%%time\n",
    "df.printSchema()"
   ]
  },
  {
   "cell_type": "code",
   "execution_count": 18,
   "id": "ffc15417-1bba-4f99-868a-1570362423c9",
   "metadata": {},
   "outputs": [
    {
     "name": "stdout",
     "output_type": "stream",
     "text": [
      "+------+---+----------------+\n",
      "|  name|age|            city|\n",
      "+------+---+----------------+\n",
      "|Eugene| 30|Saint-Petersburg|\n",
      "| Maria| 28|          Madrid|\n",
      "|Arthur| 35|           Paris|\n",
      "+------+---+----------------+\n",
      "\n",
      "CPU times: user 4.11 ms, sys: 1.03 ms, total: 5.14 ms\n",
      "Wall time: 289 ms\n"
     ]
    }
   ],
   "source": [
    "%%time\n",
    "df.filter(df.age > 27).show()"
   ]
  },
  {
   "cell_type": "code",
   "execution_count": 19,
   "id": "77eeb20b-e24e-43b9-b3f0-e60bdf7413ff",
   "metadata": {},
   "outputs": [
    {
     "name": "stdout",
     "output_type": "stream",
     "text": [
      "+------+---+----------------+\n",
      "|  name|age|            city|\n",
      "+------+---+----------------+\n",
      "|   Ann| 25|          London|\n",
      "| Maria| 28|          Madrid|\n",
      "|Eugene| 30|Saint-Petersburg|\n",
      "|Arthur| 35|           Paris|\n",
      "+------+---+----------------+\n",
      "\n",
      "CPU times: user 6.19 ms, sys: 1.01 ms, total: 7.2 ms\n",
      "Wall time: 197 ms\n"
     ]
    }
   ],
   "source": [
    "%%time\n",
    "df.orderBy(\"age\").show()"
   ]
  },
  {
   "cell_type": "code",
   "execution_count": null,
   "id": "03cb0d6b-4e77-4373-8b29-b9eb350d7497",
   "metadata": {},
   "outputs": [],
   "source": []
  }
 ],
 "metadata": {
  "kernelspec": {
   "display_name": "Python 3 (ipykernel)",
   "language": "python",
   "name": "python3"
  },
  "language_info": {
   "codemirror_mode": {
    "name": "ipython",
    "version": 3
   },
   "file_extension": ".py",
   "mimetype": "text/x-python",
   "name": "python",
   "nbconvert_exporter": "python",
   "pygments_lexer": "ipython3",
   "version": "3.12.2"
  }
 },
 "nbformat": 4,
 "nbformat_minor": 5
}
